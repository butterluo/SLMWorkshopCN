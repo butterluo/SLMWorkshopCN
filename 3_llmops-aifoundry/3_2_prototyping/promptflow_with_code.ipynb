{
 "cells": [
  {
   "cell_type": "markdown",
   "metadata": {},
   "source": [
    "# Create and Run chat flows using Promptflow Python SDK\n",
    "\n",
    "### Overview\n",
    "\n",
    "Prompt flow is a suite of development tools designed to streamline the end-to-end development cycle of LLM-based AI applications, from ideation, prototyping, testing, evaluation to production deployment and monitoring. It makes prompt engineering much easier and enables you to build LLM apps with production quality.\n",
    "\n",
    "In this hands-on, you will be able to:\n",
    "Create flows that link fine-tuned phi3.5 endpoint(Python code) and gpt model in a executable workflow.\n",
    "Debug and iterate your flows, especially tracing interaction with LLMs with ease.\n",
    "\n",
    "#### 1. Set up Promptflow client with Credential and configuration\n",
    "\n",
    "#### 2. Create a new chat flow by providing the flow name and description.\n",
    "\n",
    "#### 3. Run Basic Promptflow with questions to compare models\n",
    "\n",
    "#### 4. Run Context Added Promptflow with the outdoor questions\n",
    "\n",
    "#### 5. Use serverless endpoint to run the Promptflow with context\n",
    "\n",
    "[Note] Please use `Python 3.10 - SDK v2 (azureml_py310_sdkv2)` conda environment.\n"
   ]
  },
  {
   "cell_type": "code",
   "execution_count": 1,
   "metadata": {},
   "outputs": [
    {
     "name": "stdout",
     "output_type": "stream",
     "text": [
      "Kernel: python31014jvsc74a57bd01f90a0206bde5cf3732dab79adbbcc7570d5fab64b89fc69d46a8fe33664a709\n"
     ]
    }
   ],
   "source": [
    "%load_ext autoreload\n",
    "%autoreload 2\n",
    "\n",
    "import os, sys\n",
    "lab_prep_dir = os.getcwd().split(\"SLMWorkshopCN\")[0] + \"SLMWorkshopCN/0_lab_preparation\"\n",
    "sys.path.append(os.path.abspath(lab_prep_dir))\n",
    "\n",
    "from common import check_kernel\n",
    "check_kernel()"
   ]
  },
  {
   "cell_type": "code",
   "execution_count": 2,
   "metadata": {},
   "outputs": [
    {
     "name": "stdout",
     "output_type": "stream",
     "text": [
      "49aee8bf-3f02-464f-a0ba-e3467e7d85e2\n",
      "rg-slmwrkshp_9\n",
      "slmwrkshp9\n"
     ]
    }
   ],
   "source": [
    "import json\n",
    "import os\n",
    "import time\n",
    "\n",
    "# Import required libraries\n",
    "from promptflow.azure import PFClient\n",
    "from promptflow.entities import Run\n",
    "# Import required libraries\n",
    "from azure.identity import DefaultAzureCredential, EnvironmentCredential, InteractiveBrowserCredential\n",
    "from dotenv import load_dotenv\n",
    "from azure.core.exceptions import HttpResponseError\n",
    "load_dotenv()\n",
    "with open('./config_prd.json', 'r') as f:\n",
    "    config = json.load(f)\n",
    "    \n",
    "print(config[\"subscription_id\"])\n",
    "print(config[\"resource_group\"])\n",
    "print(config[\"workspace_name\"]) # Azure AI Foundry project name which is not the same as the Azure ML workspace name"
   ]
  },
  {
   "cell_type": "code",
   "execution_count": 4,
   "metadata": {},
   "outputs": [],
   "source": [
    "from tqdm import tqdm\n",
    "\n",
    "# Monitor the status of the run_result\n",
    "def monitor_status(pf_azure_client:PFClient, run_result:Run):\n",
    "    with tqdm(total=3, desc=\"Running Status\", unit=\"step\") as pbar:\n",
    "        status = pf_azure_client.runs.get(run_result).status\n",
    "        if status == \"Preparing\":\n",
    "            pbar.update(1)\n",
    "        while status != \"Completed\" and status != \"Failed\":\n",
    "            if status == \"Running\" and pbar.n < 2:\n",
    "                pbar.update(1)\n",
    "            print(f\"Current Status: {status}\")\n",
    "            time.sleep(10)\n",
    "            status = pf_azure_client.runs.get(run_result).status\n",
    "        pbar.update(1)\n",
    "        print(\"Promptflow Running Completed\")"
   ]
  },
  {
   "cell_type": "markdown",
   "metadata": {},
   "source": [
    "## 1. Set up Promptflow client with Credential and configuration\n",
    "\n",
    "-   Create a promptflow client with the credential and configuration. You need to set the `config_prd.json` file with subscription_id, resource_group and workspace_name\n"
   ]
  },
  {
   "cell_type": "code",
   "execution_count": 5,
   "metadata": {},
   "outputs": [
    {
     "name": "stderr",
     "output_type": "stream",
     "text": [
      "Found the config file in: config_prd.json\n"
     ]
    },
    {
     "name": "stdout",
     "output_type": "stream",
     "text": [
      "Connected to Azure AI Foundry Workspace: slmwrkshp9\n",
      "Workspace Location: eastus\n",
      "Workspace ID: /subscriptions/49aee8bf-3f02-464f-a0ba-e3467e7d85e2/resourceGroups/rg-slmwrkshp_9/providers/Microsoft.MachineLearningServices/workspaces/slmwrkshp9\n"
     ]
    }
   ],
   "source": [
    "try:\n",
    "    credential = DefaultAzureCredential()\n",
    "    # Check if given credential can get token successfully.\n",
    "    credential.get_token(\"https://management.azure.com/.default\")\n",
    "except Exception as ex:\n",
    "    # Fall back to InteractiveBrowserCredential in case DefaultAzureCredential not work\n",
    "    credential = InteractiveBrowserCredential()\n",
    "# if you cannot use DefaultAzureCredential and InteractiveBrowserCredential you need to set up the Managed identity in your .env file\n",
    "\n",
    "pf_azure_client = PFClient.from_config(credential=credential, path=\"./config_prd.json\")\n",
    "\n",
    "# pf_azure_client = PFClient(credential=credential, \n",
    "#                            subscription_id=\"your subscription id\", \n",
    "#                            resource_group_name=\"your resource group name\", \n",
    "#                            workspace_name=\"your workspace name\")            \n",
    "\n",
    "try:\n",
    "    workspace = pf_azure_client.ml_client.workspaces.get(name=config[\"workspace_name\"])\n",
    "    print(f\"Connected to Azure AI Foundry Workspace: {workspace.name}\")\n",
    "    print(f\"Workspace Location: {workspace.location}\")\n",
    "    print(f\"Workspace ID: {workspace.id}\")\n",
    "except HttpResponseError as e:\n",
    "    print(f\"Failed to connect to Azure ML Workspace: {e}\")\n"
   ]
  },
  {
   "cell_type": "markdown",
   "metadata": {},
   "source": [
    "## 2. Create a new chat flow by providing the flow name and description.\n",
    "\n",
    "-   Create a new chat flow by providing the flow name and description. You can view and clone the flow on Azure AI Foundry UI.\n",
    "\n",
    "> ✨ **_important_** <br>\n",
    "> Grant the Storage File Data Privileged Contributor, Storage Blob Data Contributor at the storage of AI Foundryrole to user, group, service principle and managed Identity which you are trying to access, you can execute the code below.\n"
   ]
  },
  {
   "cell_type": "markdown",
   "metadata": {},
   "source": [
    "### Check the exist connections\n",
    "\n",
    "-   currently we only support create connection in Azure AI, ML Studio UI. Check the exiting connections in the workspace.\n",
    "    > ✨ **_important_** <br>\n",
    "    > Check your connection information in Azure AI Foundry Management Center\n"
   ]
  },
  {
   "cell_type": "code",
   "execution_count": 6,
   "metadata": {},
   "outputs": [
    {
     "name": "stdout",
     "output_type": "stream",
     "text": [
      "$schema: https://azuremlschemas.azureedge.net/promptflow/latest/Flow.schema.json\n",
      "environment:\n",
      "  python_requirements_txt: requirements.txt\n",
      "inputs:\n",
      "  question:\n",
      "    type: string\n",
      "    is_chat_input: true\n",
      "    default: What is the capital of France?\n",
      "outputs:\n",
      "  phi35_answer:\n",
      "    type: string\n",
      "    reference: ${phi35.output}\n",
      "    is_chat_output: false\n",
      "  gpt4o_answer:\n",
      "    type: string\n",
      "    reference: ${gpt4o.output}\n",
      "    is_chat_output: true\n",
      "nodes:\n",
      "- name: phi35\n",
      "  type: python\n",
      "  source:\n",
      "    type: code\n",
      "    path: phi35_finetuned.py\n",
      "  inputs:\n",
      "    connection: slmwrkshp_phi35\n",
      "    input_data: ${inputs.question}\n",
      "- name: gpt4o\n",
      "  type: llm\n",
      "  source:\n",
      "    type: code\n",
      "    path: chat.jinja2\n",
      "  inputs:\n",
      "    deployment_name: gpt-4o\n",
      "    temperature: 0.7\n",
      "    top_p: 1\n",
      "    max_tokens: 256\n",
      "    question: ${inputs.question}\n",
      "  connection: cog-pgwgybluulpec\n",
      "  api: chat\n",
      "  module: promptflow.tools.aoai\n",
      "  use_variants: false\n"
     ]
    }
   ],
   "source": [
    "from jinja2 import Environment, FileSystemLoader\n",
    "from pathlib import Path\n",
    "\n",
    "env = Environment(loader=FileSystemLoader('.'))\n",
    "\n",
    "# Read the template file\n",
    "template = env.get_template('./flow-template/chat.flow.dag.yaml')\n",
    "\n",
    "# Define the variables for the template\n",
    "your_phi35_connection_name = \"slmwrkshp_phi35\"\n",
    "your_gpt4o_connection_name = \"cog-pgwgybluulpec\"\n",
    "variables = {\n",
    "\t\"your_phi35_connection_name\": your_phi35_connection_name,\n",
    "\t\"your_gpt4o_connection_name\": your_gpt4o_connection_name,\n",
    "}\n",
    "\n",
    "rendered_content = template.render(variables)\n",
    "Path('./chat/flow.dag.yaml').write_text(rendered_content)\n",
    "\n",
    "print(Path('./chat/flow.dag.yaml').read_text()) "
   ]
  },
  {
   "cell_type": "code",
   "execution_count": 7,
   "metadata": {},
   "outputs": [
    {
     "name": "stdout",
     "output_type": "stream",
     "text": [
      "Flow created successfully:\n",
      "{\n",
      "    \"name\": \"c2f5542c-62b3-4a24-8242-63e7f9e72264\",\n",
      "    \"type\": \"chat\",\n",
      "    \"description\": \"fine-tuned model comparison flow\",\n",
      "    \"path\": \"Users/luogang/promptflow/chat-02-19-2025-22-18-05/flow.dag.yaml\",\n",
      "    \"code\": \"azureml://locations/eastus/workspaces/7d935d47-d75a-46d0-967a-9034bdea1de5/flows/c2f5542c-62b3-4a24-8242-63e7f9e72264\",\n",
      "    \"display_name\": \"comparison flow created from python sdk\",\n",
      "    \"owner\": {\n",
      "        \"user_object_id\": \"a0490c2e-4f6d-490a-9f03-0b49b8a3c480\",\n",
      "        \"user_tenant_id\": \"16b3c013-d300-468d-ac64-7eda0820b6d3\",\n",
      "        \"user_name\": \"Gang Luo\"\n",
      "    },\n",
      "    \"is_archived\": false,\n",
      "    \"created_date\": \"2025-02-19 14:18:20.812505+00:00\",\n",
      "    \"flow_portal_url\": \"https://ai.azure.com/projectflows/c2f5542c-62b3-4a24-8242-63e7f9e72264/7d935d47-d75a-46d0-967a-9034bdea1de5/details/Flow?wsid=/subscriptions/49aee8bf-3f02-464f-a0ba-e3467e7d85e2/resourcegroups/rg-slmwrkshp_9/providers/Microsoft.MachineLearningServices/workspaces/slmwrkshp9\"\n",
      "}\n"
     ]
    },
    {
     "data": {
      "text/plain": [
       "<promptflow.azure._entities._flow.Flow at 0x7fc108724fa0>"
      ]
     },
     "execution_count": 7,
     "metadata": {},
     "output_type": "execute_result"
    }
   ],
   "source": [
    "#Grant the right accessibility to create the flow \n",
    "pf_azure_client.flows.create_or_update(flow=\"chat/\", type=\"chat\", display_name=\"comparison flow created from python sdk\", description=\"fine-tuned model comparison flow\")#AI Foundry Prj/Prompt Flow/Flows标签页中可看到"
   ]
  },
  {
   "cell_type": "markdown",
   "metadata": {},
   "source": [
    "## 3. Run Basic Promptflow with questions to compare models\n",
    "\n",
    "-   Run the Promptflow with the simple questions such as \"What is the capital of France?\" and compare the results of the models\n"
   ]
  },
  {
   "cell_type": "code",
   "execution_count": 8,
   "metadata": {},
   "outputs": [
    {
     "name": "stderr",
     "output_type": "stream",
     "text": [
      "\u001b[32mUploading chat (0.01 MBs): 100%|██████████| 5677/5677 [00:01<00:00, 4763.31it/s]\n",
      "\u001b[39m\n",
      "\n",
      "\u001b[32mUploading questions_basic.jsonl\u001b[32m (< 1 MB): 100%|██████████| 724/724 [00:00<00:00, 2.54kB/s]\n",
      "\u001b[39m\n",
      "\n",
      "[2025-02-19 22:18:37 +0800][promptflow][WARNING] - You're using compute session, if it's first time you're using it, it may take a while to build session and you may see 'NotStarted' status for a while. \n",
      "[2025-02-19 22:18:37 +0800][promptflow][WARNING] - The trace Cosmos DB for current workspace/project is not ready yet, your traces might not be logged and stored properly.\n",
      "To enable it, please run `pf config set trace.destination=azureml://subscriptions/<subscription-id>/resourceGroups/<resource-group-name>/providers/Microsoft.MachineLearningServices/workspaces/<workspace-or-project-name>`, prompt flow will help to get everything ready.\n",
      "\n"
     ]
    },
    {
     "name": "stdout",
     "output_type": "stream",
     "text": [
      "Portal url: https://ai.azure.com/projectflows/trace/run/chat_variant_0_20250219_221831_260866/details?wsid=/subscriptions/49aee8bf-3f02-464f-a0ba-e3467e7d85e2/resourcegroups/rg-slmwrkshp_9/providers/Microsoft.MachineLearningServices/workspaces/slmwrkshp9\n"
     ]
    }
   ],
   "source": [
    "flow_path = \"./chat\"\n",
    "data_path = \"./data/questions_basic.jsonl\"\n",
    "\n",
    "column_mapping = {\n",
    "    \"question\": \"${data.question}\"\n",
    "}\n",
    "\n",
    "run_result = pf_azure_client.run(#AI Foundry Prj/Prompt Flow/Runs标签页中可看到，这里代码提交的run与上面pf_azure_client.flows.create_or_update创建的flow并无关联，只是丢个xml上去跑而已\n",
    "    flow=flow_path,\n",
    "    type=\"chat\",\n",
    "    data=data_path,\n",
    "    column_mapping=column_mapping,\n",
    "    display_name=\"chat_with_data\",\n",
    "    tags={\"chat_with_jsonl\": \"\", \"1st_round\": \"\"},\n",
    ")\n"
   ]
  },
  {
   "cell_type": "code",
   "execution_count": 9,
   "metadata": {},
   "outputs": [
    {
     "name": "stderr",
     "output_type": "stream",
     "text": [
      "Running Status:   0%|          | 0/3 [00:00<?, ?step/s]"
     ]
    },
    {
     "name": "stdout",
     "output_type": "stream",
     "text": [
      "Current Status: NotStarted\n"
     ]
    },
    {
     "name": "stderr",
     "output_type": "stream",
     "text": [
      "Running Status:   0%|          | 0/3 [00:06<?, ?step/s]\n"
     ]
    },
    {
     "ename": "KeyboardInterrupt",
     "evalue": "",
     "output_type": "error",
     "traceback": [
      "\u001b[0;31m---------------------------------------------------------------------------\u001b[0m",
      "\u001b[0;31mKeyboardInterrupt\u001b[0m                         Traceback (most recent call last)",
      "Cell \u001b[0;32mIn[9], line 1\u001b[0m\n\u001b[0;32m----> 1\u001b[0m \u001b[43mmonitor_status\u001b[49m\u001b[43m(\u001b[49m\u001b[43mpf_azure_client\u001b[49m\u001b[43m,\u001b[49m\u001b[43m \u001b[49m\u001b[43mrun_result\u001b[49m\u001b[43m)\u001b[49m\n",
      "Cell \u001b[0;32mIn[4], line 13\u001b[0m, in \u001b[0;36mmonitor_status\u001b[0;34m(pf_azure_client, run_result)\u001b[0m\n\u001b[1;32m     11\u001b[0m         pbar\u001b[38;5;241m.\u001b[39mupdate(\u001b[38;5;241m1\u001b[39m)\n\u001b[1;32m     12\u001b[0m     \u001b[38;5;28mprint\u001b[39m(\u001b[38;5;124mf\u001b[39m\u001b[38;5;124m\"\u001b[39m\u001b[38;5;124mCurrent Status: \u001b[39m\u001b[38;5;132;01m{\u001b[39;00mstatus\u001b[38;5;132;01m}\u001b[39;00m\u001b[38;5;124m\"\u001b[39m)\n\u001b[0;32m---> 13\u001b[0m     \u001b[43mtime\u001b[49m\u001b[38;5;241;43m.\u001b[39;49m\u001b[43msleep\u001b[49m\u001b[43m(\u001b[49m\u001b[38;5;241;43m10\u001b[39;49m\u001b[43m)\u001b[49m\n\u001b[1;32m     14\u001b[0m     status \u001b[38;5;241m=\u001b[39m pf_azure_client\u001b[38;5;241m.\u001b[39mruns\u001b[38;5;241m.\u001b[39mget(run_result)\u001b[38;5;241m.\u001b[39mstatus\n\u001b[1;32m     15\u001b[0m pbar\u001b[38;5;241m.\u001b[39mupdate(\u001b[38;5;241m1\u001b[39m)\n",
      "\u001b[0;31mKeyboardInterrupt\u001b[0m: "
     ]
    },
    {
     "name": "stderr",
     "output_type": "stream",
     "text": [
      "Retrying due to transient client side error HTTPSConnectionPool(host='westus2-0.in.applicationinsights.azure.com', port=443): Max retries exceeded with url: /v2.1/track (Caused by NameResolutionError(\"<urllib3.connection.HTTPSConnection object at 0x7fc0b26556c0>: Failed to resolve 'westus2-0.in.applicationinsights.azure.com' ([Errno -3] Temporary failure in name resolution)\")).\n",
      "Retrying due to transient client side error HTTPSConnectionPool(host='westus2-0.in.applicationinsights.azure.com', port=443): Max retries exceeded with url: /v2.1/track (Caused by NameResolutionError(\"<urllib3.connection.HTTPSConnection object at 0x7fc0b27d9ff0>: Failed to resolve 'westus2-0.in.applicationinsights.azure.com' ([Errno -3] Temporary failure in name resolution)\")).\n",
      "Retrying due to transient client side error HTTPSConnectionPool(host='westus2-0.in.applicationinsights.azure.com', port=443): Max retries exceeded with url: /v2.1/track (Caused by NameResolutionError(\"<urllib3.connection.HTTPSConnection object at 0x7fc0b27f7100>: Failed to resolve 'westus2-0.in.applicationinsights.azure.com' ([Errno -3] Temporary failure in name resolution)\")).\n",
      "Retrying due to transient client side error HTTPSConnectionPool(host='westus2-0.in.applicationinsights.azure.com', port=443): Max retries exceeded with url: /v2.1/track (Caused by NameResolutionError(\"<urllib3.connection.HTTPSConnection object at 0x7fc0b2797b80>: Failed to resolve 'westus2-0.in.applicationinsights.azure.com' ([Errno -3] Temporary failure in name resolution)\")).\n"
     ]
    }
   ],
   "source": [
    "monitor_status(pf_azure_client, run_result)"
   ]
  },
  {
   "cell_type": "code",
   "execution_count": null,
   "metadata": {},
   "outputs": [],
   "source": [
    "detail = pf_azure_client.get_details(run_result)\n",
    "\n",
    "detail"
   ]
  },
  {
   "cell_type": "markdown",
   "metadata": {},
   "source": [
    "---\n",
    "\n",
    "下面4节其实就是把数据换了一下，5节其实就是把flow.dag.yaml模板换了下，做法基本和前面相似，可选择略过\n",
    "\n",
    "---"
   ]
  },
  {
   "cell_type": "markdown",
   "metadata": {},
   "source": [
    "## 4. Run Context Added Promptflow with the outdoor questions\n",
    "\n",
    "-   Run the Promptflow using the context data and ask the outdoor product related questions to compare the results of the models\n"
   ]
  },
  {
   "cell_type": "markdown",
   "metadata": {},
   "source": [
    "### Check the exist connections\n",
    "\n",
    "-   currently we only support create connection in Azure AI, ML Studio UI. Check the exiting connections in the workspace.\n",
    "    > ✨ **_important_** <br>\n",
    "    > Check your connection information in Azure AI Foundry Management Center\n"
   ]
  },
  {
   "cell_type": "code",
   "execution_count": null,
   "metadata": {},
   "outputs": [],
   "source": [
    "from jinja2 import Environment, FileSystemLoader\n",
    "from pathlib import Path\n",
    "\n",
    "env = Environment(loader=FileSystemLoader('.'))\n",
    "\n",
    "# Read the template file\n",
    "template = env.get_template('./flow-template/chat-context.flow.dag.yaml')\n",
    "\n",
    "# Define the variables for the template\n",
    "variables = {\n",
    "\t\"your_phi35_connection_name\": your_phi35_connection_name,\n",
    "\t\"your_gpt4o_connection_name\": your_gpt4o_connection_name\n",
    "}\n",
    "\n",
    "rendered_content = template.render(variables)\n",
    "Path('./chat-context/flow.dag.yaml').write_text(rendered_content)\n",
    "\n",
    "print(Path('./chat-context/flow.dag.yaml').read_text()) "
   ]
  },
  {
   "cell_type": "code",
   "execution_count": null,
   "metadata": {},
   "outputs": [],
   "source": [
    "flow_path = \"./chat-context\"\n",
    "data_path = \"./data/questions_outdoor.jsonl\"\n",
    "\n",
    "# get the context from context.json file as str and map it to the column_mapping\n",
    "with open('./data/context_simple.json', 'r') as file:\n",
    "    context = json.load(file)\n",
    "\n",
    "column_mapping = {\n",
    "    \"question\": \"${data.question}\",\n",
    "    \"context\": context.get(\"context\")    #context_simple.json中只有固定的一条ctx所以可以这样写\n",
    "}\n",
    "\n",
    "run_result_with_context = pf_azure_client.run(\n",
    "    flow=flow_path,\n",
    "    type=\"chat\",\n",
    "    data=data_path, \n",
    "    column_mapping=column_mapping,\n",
    "    display_name=\"chat_context_data\",\n",
    "    tags={\"chat_with_context_jsonl\": \"\", \"1st_round\": \"\"},\n",
    ")\n"
   ]
  },
  {
   "cell_type": "code",
   "execution_count": null,
   "metadata": {},
   "outputs": [],
   "source": [
    "monitor_status(pf_azure_client, run_result_with_context)"
   ]
  },
  {
   "cell_type": "code",
   "execution_count": null,
   "metadata": {},
   "outputs": [],
   "source": [
    "detail = pf_azure_client.get_details(run_result_with_context)\n",
    "\n",
    "detail"
   ]
  },
  {
   "cell_type": "markdown",
   "metadata": {},
   "source": [
    "## 5. Use serverless endpoint to run the Promptflow with context\n",
    "\n",
    "-   Create a serverless endpoint to run the Promptflow with the context. You can use the endpoint to run the flow with the context.\n"
   ]
  },
  {
   "cell_type": "markdown",
   "metadata": {},
   "source": [
    "### deploy your serverless endpoint\n",
    "\n",
    "-   go to the Azure AI Foundry > Model catalog > search phi-3.5 > deply Phi-3.5-mini-instruct as your serverless endpint\n",
    "    <br>\n",
    "    ![serverless endpoint](./images/deploy_serverless_endpoint.jpg)\n",
    "    <br>\n",
    "    <br>\n",
    "-   once the deployment is done, go to Deployments and you can see the endpoint deployed in the endpoint section. Click to check the details and copy key and phi35-mini-instruct: Chat Completion endpoint url\n",
    "    ![copy connection](./images/copy_connection.jpg)\n",
    "    <br>\n",
    "    <br>\n",
    "-   go to Settings in Azure AI Foundry > Connections > create a new connection naming phi35-serverless with the copied key and endpoint url\n",
    "    ![create new serverless connection](./images/create_new_serverless_connection.jpg)\n"
   ]
  },
  {
   "cell_type": "markdown",
   "metadata": {},
   "source": [
    "### Check the exist connections\n",
    "\n",
    "-   currently we only support create connection in Azure AI, ML Studio UI. Check the exiting connections in the workspace.\n",
    "    > ✨ **_important_** <br>\n",
    "    > Check your connection information in Azure AI Foundry Management Center\n"
   ]
  },
  {
   "cell_type": "code",
   "execution_count": null,
   "metadata": {},
   "outputs": [],
   "source": [
    "from jinja2 import Environment, FileSystemLoader\n",
    "from pathlib import Path\n",
    "\n",
    "env = Environment(loader=FileSystemLoader('.'))\n",
    "\n",
    "# Read the template file\n",
    "template = env.get_template('./flow-template/chat-serverless.flow.dag.yaml')\n",
    "\n",
    "# Define the variables for the template with your connection names for chat serverless \n",
    "variables = {\n",
    "\t\"your_phi35_serverless_connection_name\": \"replace with your connection name\",\n",
    "\t\"your_gpt4o_connection_name\": \"replace with your connection name\"\n",
    "}\n",
    "\n",
    "rendered_content = template.render(variables)\n",
    "Path('./chat-serverless/flow.dag.yaml').write_text(rendered_content)\n",
    "\n",
    "print(Path('./chat-serverless/flow.dag.yaml').read_text()) "
   ]
  },
  {
   "cell_type": "code",
   "execution_count": null,
   "metadata": {},
   "outputs": [],
   "source": [
    "flow_path = \"./chat-serverless\"\n",
    "data_path = \"./data/questions_outdoor.jsonl\"\n",
    "\n",
    "# get the context from context.json file as str and map it to the column_mapping\n",
    "with open('./data/context_simple.json', 'r') as file:\n",
    "    context = json.load(file)\n",
    "\n",
    "column_mapping = {\n",
    "    \"question\": \"${data.question}\",\n",
    "    \"context\": context.get(\"context\")    \n",
    "}\n",
    "\n",
    "run_serverless_result = pf_azure_client.run(\n",
    "    flow=flow_path,\n",
    "    type=\"chat\",\n",
    "    data=data_path, \n",
    "    column_mapping=column_mapping,\n",
    "    display_name=\"chat_serverless_context_data\",\n",
    "    tags={\"chat_serverless_context_jsonl\": \"\", \"1st_round\": \"\"},\n",
    ")\n"
   ]
  },
  {
   "cell_type": "code",
   "execution_count": null,
   "metadata": {},
   "outputs": [],
   "source": [
    "monitor_status(pf_azure_client, run_serverless_result)"
   ]
  },
  {
   "cell_type": "code",
   "execution_count": null,
   "metadata": {},
   "outputs": [],
   "source": [
    "detail = pf_azure_client.get_details(run_serverless_result)\n",
    "\n",
    "detail"
   ]
  },
  {
   "cell_type": "code",
   "execution_count": null,
   "metadata": {},
   "outputs": [],
   "source": [
    "context.get(\"context\")   "
   ]
  }
 ],
 "metadata": {
  "kernelspec": {
   "display_name": "azureml_py310_sdkv2",
   "language": "python",
   "name": "python3"
  },
  "language_info": {
   "codemirror_mode": {
    "name": "ipython",
    "version": 3
   },
   "file_extension": ".py",
   "mimetype": "text/x-python",
   "name": "python",
   "nbconvert_exporter": "python",
   "pygments_lexer": "ipython3",
   "version": "3.10.14"
  }
 },
 "nbformat": 4,
 "nbformat_minor": 2
}
